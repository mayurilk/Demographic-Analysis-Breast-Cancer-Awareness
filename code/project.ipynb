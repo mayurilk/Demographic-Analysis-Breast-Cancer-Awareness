{
 "cells": [
  {
   "cell_type": "markdown",
   "metadata": {},
   "source": [
    "# Data Pre-processing"
   ]
  },
  {
   "cell_type": "code",
   "execution_count": 4,
   "metadata": {
    "collapsed": true
   },
   "outputs": [],
   "source": [
    "import re\n",
    "import csv\n",
    "import json\n",
    "import requests\n",
    "import numpy as np\n",
    "import csv as csvfile\n",
    "import matplotlib.pyplot as plt\n",
    "from collections import Counter\n",
    "from sklearn.cross_validation import KFold\n",
    "from sklearn.feature_extraction.text import CountVectorizer\n",
    "from sklearn.linear_model import LogisticRegression\n",
    "from sklearn.metrics import accuracy_score\n",
    "%matplotlib inline"
   ]
  },
  {
   "cell_type": "code",
   "execution_count": 5,
   "metadata": {
    "collapsed": true
   },
   "outputs": [],
   "source": [
    "#This was run on actual data of size ~400MB (~66k tweets) saved in project_data.txt after data collection\n",
    "# The processed output of this notebook is the actual experiment_data used for this project\n",
    "'''\n",
    "f= open('project_data.txt','r')\n",
    "y = json.load(f)\n",
    "f.close()'''\n",
    "\n",
    "# To validate pre-processing start with below code\n",
    "df= open('demo_tweets.txt','r')\n",
    "dy = json.load(df)\n",
    "df.close()"
   ]
  },
  {
   "cell_type": "code",
   "execution_count": 6,
   "metadata": {
    "collapsed": true
   },
   "outputs": [],
   "source": [
    "demo_tweets = dy['cancer tweets']"
   ]
  },
  {
   "cell_type": "code",
   "execution_count": 7,
   "metadata": {
    "collapsed": false
   },
   "outputs": [
    {
     "data": {
      "text/plain": [
       "15000"
      ]
     },
     "execution_count": 7,
     "metadata": {},
     "output_type": "execute_result"
    }
   ],
   "source": [
    "len(demo_tweets)"
   ]
  },
  {
   "cell_type": "code",
   "execution_count": 8,
   "metadata": {
    "collapsed": false
   },
   "outputs": [
    {
     "name": "stdout",
     "output_type": "stream",
     "text": [
      "8240\n"
     ]
    }
   ],
   "source": [
    "#Identify unique tweets\n",
    "unique_tweets =set()\n",
    "for t in demo_tweets:\n",
    "    if t['text'] not in unique_tweets:\n",
    "        t['unique'] = True\n",
    "        unique_tweets.add(t['text'])\n",
    "    else:\n",
    "        t['unique'] = False\n",
    "print len(unique_tweets)\n",
    "unique_tweets = None"
   ]
  },
  {
   "cell_type": "code",
   "execution_count": 9,
   "metadata": {
    "collapsed": false
   },
   "outputs": [
    {
     "name": "stdout",
     "output_type": "stream",
     "text": [
      "8240\n"
     ]
    }
   ],
   "source": [
    "u= [t for t in demo_tweets if t['unique']]\n",
    "print len(u)"
   ]
  },
  {
   "cell_type": "code",
   "execution_count": 10,
   "metadata": {
    "collapsed": false
   },
   "outputs": [
    {
     "data": {
      "text/plain": [
       "7854"
      ]
     },
     "execution_count": 10,
     "metadata": {},
     "output_type": "execute_result"
    }
   ],
   "source": [
    "#Filter non english tweets\n",
    "english_tweets = [t for t in u if t['lang'] in 'en']\n",
    "len(english_tweets)"
   ]
  },
  {
   "cell_type": "code",
   "execution_count": 11,
   "metadata": {
    "collapsed": false
   },
   "outputs": [],
   "source": [
    "#Read manually labelled tweets for relevant and irrelevant tweets and build the label vector\n",
    "with open('gender_labels.csv') as csvfile:\n",
    "    reader = csv.DictReader(csvfile)\n",
    "    labels=[]\n",
    "    for row in reader:\n",
    "        labels.append(str(row['label']))\n",
    "int_labels = map(int,labels)\n",
    "int_labels[:10]\n",
    "y_labels= np.array(int_labels)"
   ]
  },
  {
   "cell_type": "code",
   "execution_count": 12,
   "metadata": {
    "collapsed": false
   },
   "outputs": [
    {
     "name": "stdout",
     "output_type": "stream",
     "text": [
      "label counts= Counter({1: 385, 0: 115})\n"
     ]
    }
   ],
   "source": [
    "print 'label counts=', Counter(y_labels)"
   ]
  },
  {
   "cell_type": "code",
   "execution_count": 13,
   "metadata": {
    "collapsed": false
   },
   "outputs": [],
   "source": [
    "# Read labelled tweets corresponding to manually labelled data\n",
    "lab_file = open('labelled_data.txt','r')\n",
    "lab_tweets = json.load(lab_file)\n",
    "lab_tw_texts = [t['text'] for t in lab_tweets['cancer tweets']]"
   ]
  },
  {
   "cell_type": "code",
   "execution_count": 14,
   "metadata": {
    "collapsed": false
   },
   "outputs": [
    {
     "name": "stdout",
     "output_type": "stream",
     "text": [
      "vectorized 500 tweets. found 2478 terms.\n"
     ]
    }
   ],
   "source": [
    "# build vectorizer \n",
    "vectorizer = CountVectorizer()\n",
    "X = vectorizer.fit_transform(lab_tw_texts)\n",
    "print 'vectorized %d tweets. found %d terms.' % (X.shape[0], X.shape[1])"
   ]
  },
  {
   "cell_type": "code",
   "execution_count": 15,
   "metadata": {
    "collapsed": false
   },
   "outputs": [
    {
     "name": "stdout",
     "output_type": "stream",
     "text": [
      "accuracy=0.850\n"
     ]
    }
   ],
   "source": [
    "# cross validation\n",
    "def do_cv(X, y, nfolds=5):\n",
    "    cv = KFold(len(y), nfolds, random_state=123456)\n",
    "    preds = []\n",
    "    truths = []\n",
    "    for train, test in cv:\n",
    "        clf = LogisticRegression(class_weight='auto')\n",
    "        clf.fit(X[train], y[train])\n",
    "        preds.extend(clf.predict(X[test]))\n",
    "        truths.extend(y[test])\n",
    "        clf = LogisticRegression(class_weight='auto')\n",
    "        clf.fit(X, y)\n",
    "    print ('accuracy=%.3f' % (accuracy_score(truths, preds)))\n",
    "    return clf\n",
    "clf_train = do_cv(X,y_labels,5)"
   ]
  },
  {
   "cell_type": "code",
   "execution_count": 16,
   "metadata": {
    "collapsed": false
   },
   "outputs": [
    {
     "data": {
      "text/plain": [
       "(7854, 2478)"
      ]
     },
     "execution_count": 16,
     "metadata": {},
     "output_type": "execute_result"
    }
   ],
   "source": [
    "X_raw = vectorizer.transform(t['text'] for t in english_tweets)\n",
    "X_raw.shape"
   ]
  },
  {
   "cell_type": "code",
   "execution_count": 17,
   "metadata": {
    "collapsed": true
   },
   "outputs": [],
   "source": [
    "predicted_raw = clf_train.predict(X_raw)"
   ]
  },
  {
   "cell_type": "code",
   "execution_count": 18,
   "metadata": {
    "collapsed": false
   },
   "outputs": [
    {
     "name": "stdout",
     "output_type": "stream",
     "text": [
      "predicted label distribution on raw tweets: Counter({1: 5929, 0: 1925})\n"
     ]
    }
   ],
   "source": [
    "print('predicted label distribution on raw tweets: %s' % Counter(predicted_raw))"
   ]
  },
  {
   "cell_type": "code",
   "execution_count": 19,
   "metadata": {
    "collapsed": false
   },
   "outputs": [
    {
     "name": "stdout",
     "output_type": "stream",
     "text": [
      "5929\n"
     ]
    }
   ],
   "source": [
    "#Collect the relevant tweets\n",
    "relevant_tweets = []\n",
    "for t in range(len(english_tweets)):\n",
    "    if predicted_raw[t]==1:\n",
    "        english_tweets[t]['label'] = 1\n",
    "        relevant_tweets.append(english_tweets[t])\n",
    "    else:\n",
    "        english_tweets[t]['label'] = 0\n",
    "        \n",
    "print len(relevant_tweets)"
   ]
  },
  {
   "cell_type": "code",
   "execution_count": 20,
   "metadata": {
    "collapsed": false
   },
   "outputs": [
    {
     "name": "stdout",
     "output_type": "stream",
     "text": [
      "3643\n"
     ]
    }
   ],
   "source": [
    "#Select tweets with non empty location fields\n",
    "nonblank_locations =[]\n",
    "for t in (relevant_tweets):\n",
    "    if t['user']['location'] not in \"\":\n",
    "        nonblank_locations.append(t)\n",
    "print len(nonblank_locations)"
   ]
  },
  {
   "cell_type": "code",
   "execution_count": 21,
   "metadata": {
    "collapsed": false
   },
   "outputs": [
    {
     "name": "stdout",
     "output_type": "stream",
     "text": [
      "['AARONSBURG' 'ABBEVILLE' 'ABBOT' 'ABBOTSFORD' 'ABBOTT' 'ABBOTTSTOWN'\n",
      " 'ABBYVILLE' 'ABELL' 'ABERCROMBIE' 'ABERDEEN']\n"
     ]
    }
   ],
   "source": [
    "# Read list of US cities\n",
    "with open('ListOfUSCities.txt') as csvfile:\n",
    "    c_reader = csv.reader(csvfile)\n",
    "    states=[]\n",
    "    for row in c_reader:\n",
    "        states.extend(row)\n",
    "unique_loc = np.unique(states)\n",
    "len(unique_loc)\n",
    "print unique_loc[:10]"
   ]
  },
  {
   "cell_type": "code",
   "execution_count": 22,
   "metadata": {
    "collapsed": true
   },
   "outputs": [],
   "source": [
    "low= [x.lower() for x in unique_loc]"
   ]
  },
  {
   "cell_type": "code",
   "execution_count": 23,
   "metadata": {
    "collapsed": false
   },
   "outputs": [
    {
     "name": "stdout",
     "output_type": "stream",
     "text": [
      "2501\n"
     ]
    }
   ],
   "source": [
    "# Select tweeets that belong US region\n",
    "US_tweets=[]\n",
    "for t in nonblank_locations:\n",
    "    loc_tokens = (t['user']['location']).lower().split()\n",
    "    for l in loc_tokens:\n",
    "        if l in low:\n",
    "            US_tweets.append(t)\n",
    "            break\n",
    "print len(US_tweets)"
   ]
  },
  {
   "cell_type": "code",
   "execution_count": 24,
   "metadata": {
    "collapsed": false
   },
   "outputs": [],
   "source": [
    "#Store these tweets for experiments of demographic analysis\n",
    "outf = open('ProcessedData.txt', 'w')\n",
    "json.dump({'US_tweets':US_tweets},outf,indent=2)"
   ]
  },
  {
   "cell_type": "markdown",
   "metadata": {},
   "source": [
    "# Experiments and Analysis"
   ]
  },
  {
   "cell_type": "markdown",
   "metadata": {},
   "source": [
    "Assume above data(ProcessedData.txt) was stored in US_tweets.txt in actual setup which we will now use here for further processing"
   ]
  },
  {
   "cell_type": "code",
   "execution_count": 25,
   "metadata": {
    "collapsed": false
   },
   "outputs": [],
   "source": [
    "# load preprocessed tweets\n",
    "f= open('US_tweets.txt','r')\n",
    "x = json.load(f)\n",
    "f.close()"
   ]
  },
  {
   "cell_type": "code",
   "execution_count": 26,
   "metadata": {
    "collapsed": true
   },
   "outputs": [],
   "source": [
    "US_tweets = x['UStweets']"
   ]
  },
  {
   "cell_type": "code",
   "execution_count": 27,
   "metadata": {
    "collapsed": false
   },
   "outputs": [
    {
     "name": "stdout",
     "output_type": "stream",
     "text": [
      "14510\n"
     ]
    }
   ],
   "source": [
    "print len(US_tweets)"
   ]
  },
  {
   "cell_type": "code",
   "execution_count": 28,
   "metadata": {
    "collapsed": false
   },
   "outputs": [
    {
     "name": "stdout",
     "output_type": "stream",
     "text": [
      "found 1219 male and 4275 female names\n",
      "removed 331 ambiguous names now we have 888 males and 3944 females\n"
     ]
    }
   ],
   "source": [
    "#Gender lists from US census names\n",
    "def get_gender():\n",
    "    males_url = 'http://www2.census.gov/topics/genealogy/1990surnames/dist.male.first'\n",
    "    females_url = 'http://www2.census.gov/topics/genealogy/1990surnames/dist.female.first'\n",
    "    males = set([l.split()[0].lower() for l in requests.get(males_url).text.split('\\n') if l and float(l.split()[2])])\n",
    "    females = set([l.split()[0].lower() for l in requests.get(females_url).text.split('\\n') if l and float(l.split()[2])])\n",
    "    print('found %d male and %d female names' % (len(males), len(females)))\n",
    "    return remove_ambiguous(males, females)\n",
    "\n",
    "def remove_ambiguous(male_names, female_names):\n",
    "    ambiguous = male_names & female_names\n",
    "    male_names -= ambiguous\n",
    "    female_names -= ambiguous\n",
    "    print('removed %d ambiguous names now we have %d males and %d females' % (len(ambiguous), len(male_names), len(female_names)))\n",
    "    return male_names, female_names\n",
    "    \n",
    "male_names, female_names = get_gender()"
   ]
  },
  {
   "cell_type": "code",
   "execution_count": 29,
   "metadata": {
    "collapsed": true
   },
   "outputs": [],
   "source": [
    "# Label gender based on US census data as (-1:unknown, 0:male , 1:female)\n",
    "def get_gender(tweet, male_names, female_names):\n",
    "    name = t['user']['name'].split()[0].lower()\n",
    "    if name in female_names:\n",
    "        return 1\n",
    "    elif name in male_names:\n",
    "        return 0\n",
    "    else:\n",
    "        return -1"
   ]
  },
  {
   "cell_type": "code",
   "execution_count": 30,
   "metadata": {
    "collapsed": true
   },
   "outputs": [],
   "source": [
    "#Training Set\n",
    "gender_train = US_tweets[:200]"
   ]
  },
  {
   "cell_type": "code",
   "execution_count": 31,
   "metadata": {
    "collapsed": false
   },
   "outputs": [
    {
     "name": "stdout",
     "output_type": "stream",
     "text": [
      "gender labels: [(0, 19), (1, 39), (-1, 142)]\n"
     ]
    }
   ],
   "source": [
    "# Identify genders for training set\n",
    "y_gender = np.array([get_gender(t, male_names, female_names) for t in gender_train])\n",
    "print 'gender labels:', Counter(y_gender).items()"
   ]
  },
  {
   "cell_type": "code",
   "execution_count": 32,
   "metadata": {
    "collapsed": true
   },
   "outputs": [],
   "source": [
    "# We will use description and text for tokenization, for that we use these two as one string\n",
    "def make_strings(tweet_list):\n",
    "    text_desc = [(t['user']['description'],t['text']) for t in tweet_list]\n",
    "    user_profiles=[]\n",
    "    for td in text_desc:\n",
    "        user_profiles.append(td[0]+td[1])\n",
    "    return user_profiles"
   ]
  },
  {
   "cell_type": "code",
   "execution_count": 33,
   "metadata": {
    "collapsed": true
   },
   "outputs": [],
   "source": [
    "# Tokenizer for text and description strings \n",
    "def tokenizer(string, lowercase, keep_punctuation,\n",
    "             collapse_urls, collapse_mentions):\n",
    "    if not string:\n",
    "        return []\n",
    "    if lowercase:\n",
    "        string = string.lower()\n",
    "    tokens = []\n",
    "    if collapse_urls:\n",
    "        string = re.sub('http\\S+', 'URL', string)\n",
    "    if collapse_mentions:\n",
    "        string = re.sub('@\\S+', 'MENTION', string)\n",
    "    if keep_punctuation:\n",
    "        tokens = string.split()\n",
    "    else:\n",
    "        tokens = re.sub('\\W+', ' ', string).split()\n",
    "    return tokens"
   ]
  },
  {
   "cell_type": "code",
   "execution_count": 34,
   "metadata": {
    "collapsed": true
   },
   "outputs": [],
   "source": [
    "def stringtokens(tweet,lowercase=True,\n",
    "                 keep_punctuation=True,\n",
    "                 collapse_urls=True, collapse_mentions=True):\n",
    "    tokens = tokenizer(tweet, lowercase, keep_punctuation,collapse_urls, collapse_mentions)\n",
    "    return tokens"
   ]
  },
  {
   "cell_type": "code",
   "execution_count": 35,
   "metadata": {
    "collapsed": true
   },
   "outputs": [],
   "source": [
    "def do_cv(X, y, nfolds=5):\n",
    "    cv = KFold(len(y), nfolds, random_state=123456)\n",
    "    preds = []\n",
    "    truths = []\n",
    "    for train, test in cv:\n",
    "        clf = LogisticRegression(class_weight='auto')\n",
    "        clf.fit(X[train], y[train])\n",
    "        preds.extend(clf.predict(X[test]))\n",
    "        truths.extend(y[test])\n",
    "        clf = LogisticRegression(class_weight='auto')\n",
    "        clf.fit(X, y)\n",
    "    print ('accuracy=%.3f' % (accuracy_score(truths, preds)))\n",
    "    return clf"
   ]
  },
  {
   "cell_type": "markdown",
   "metadata": {},
   "source": [
    "# Gender Analysis"
   ]
  },
  {
   "cell_type": "markdown",
   "metadata": {},
   "source": [
    "Method 1a:"
   ]
  },
  {
   "cell_type": "code",
   "execution_count": 36,
   "metadata": {
    "collapsed": true
   },
   "outputs": [],
   "source": [
    "train_profiles = make_strings(gender_train)"
   ]
  },
  {
   "cell_type": "code",
   "execution_count": 37,
   "metadata": {
    "collapsed": false
   },
   "outputs": [
    {
     "data": {
      "text/plain": [
       "(200, 7066)"
      ]
     },
     "execution_count": 37,
     "metadata": {},
     "output_type": "execute_result"
    }
   ],
   "source": [
    "vec = CountVectorizer(tokenizer = stringtokens,min_df=1,\n",
    "             max_df=1., binary=True, ngram_range=(1,2))\n",
    "X1 = vec.fit_transform(train_profiles)\n",
    "X1.shape"
   ]
  },
  {
   "cell_type": "code",
   "execution_count": 38,
   "metadata": {
    "collapsed": false
   },
   "outputs": [
    {
     "name": "stdout",
     "output_type": "stream",
     "text": [
      "accuracy=0.715\n"
     ]
    }
   ],
   "source": [
    "clf_gender = do_cv(X1,y_gender,5)"
   ]
  },
  {
   "cell_type": "code",
   "execution_count": 39,
   "metadata": {
    "collapsed": true
   },
   "outputs": [],
   "source": [
    "test_profiles = make_strings(US_tweets)"
   ]
  },
  {
   "cell_type": "code",
   "execution_count": 40,
   "metadata": {
    "collapsed": false
   },
   "outputs": [
    {
     "data": {
      "text/plain": [
       "(14510, 7066)"
      ]
     },
     "execution_count": 40,
     "metadata": {},
     "output_type": "execute_result"
    }
   ],
   "source": [
    "X_gen = vec.transform(test_profiles)\n",
    "X_gen.shape"
   ]
  },
  {
   "cell_type": "code",
   "execution_count": 41,
   "metadata": {
    "collapsed": false
   },
   "outputs": [
    {
     "name": "stdout",
     "output_type": "stream",
     "text": [
      "predicted label distribution on raw tweets: Counter({-1: 14255, 1: 213, 0: 42})\n"
     ]
    }
   ],
   "source": [
    "predicted = clf_gender.predict(X_gen)\n",
    "print('predicted label distribution on raw tweets: %s' % Counter(predicted))"
   ]
  },
  {
   "cell_type": "code",
   "execution_count": 42,
   "metadata": {
    "collapsed": false
   },
   "outputs": [
    {
     "data": {
      "image/png": "[encoded data removed]",
      "text/plain": [
       "<matplotlib.figure.Figure at 0x1232c3fd0>"
      ]
     },
     "metadata": {},
     "output_type": "display_data"
    }
   ],
   "source": [
    "#plotting gender count with 3 categories\n",
    "g_dict = dict(Counter(predicted))\n",
    "N= range(3)\n",
    "g_list = sorted(g_dict.items(), key=lambda s: s[0])\n",
    "GENDER_vals= [e[1] for e in g_list]\n",
    "GENDER_labels = ['Unkown','Male','Female'] #(respective values for -1,0,1)\n",
    "plt.figure(figsize=(5,5))\n",
    "plt.xticks(N,GENDER_labels)\n",
    "plt.bar(N,GENDER_vals)\n",
    "plt.xlabel('Gender')\n",
    "plt.ylabel('#tweets')\n",
    "plt.show()"
   ]
  },
  {
   "cell_type": "code",
   "execution_count": 71,
   "metadata": {
    "collapsed": false
   },
   "outputs": [
    {
     "name": "stdout",
     "output_type": "stream",
     "text": [
      "[(-1, 14255), (0, 42), (1, 213)]\n",
      "[0.9824259131633356, 0.0028945554789800137, 0.014679531357684355]\n"
     ]
    },
    {
     "data": {
      "image/png": "[encoded data removed]",
      "text/plain": [
       "<matplotlib.figure.Figure at 0x123cf1c50>"
      ]
     },
     "metadata": {},
     "output_type": "display_data"
    }
   ],
   "source": [
    "#Plotting gender ratio\n",
    "g_dict = dict(Counter(predicted))\n",
    "N= range(3)\n",
    "g_list = sorted(g_dict.items(), key=lambda s: s[0])\n",
    "print g_list\n",
    "GENDER_vals= [e[1] for e in g_list]\n",
    "ratio=[0,0,0]\n",
    "G_sum = sum(GENDER_vals)\n",
    "for v in range(len(GENDER_vals)):\n",
    "    GENDER_vals[v] = 1.*GENDER_vals[v]/G_sum\n",
    "print GENDER_vals\n",
    "GENDER_labels = ['Unkown','Male','Female'] #(respective values for -1,0,1)\n",
    "plt.figure(figsize=(7,7))\n",
    "plt.xticks(N,GENDER_labels)\n",
    "plt.bar(N,GENDER_vals)\n",
    "plt.xlabel('Gender')\n",
    "plt.ylabel('Ratio of tweets')\n",
    "plt.savefig('Exp1_gender_analysis.pdf', bbox_inches='tight')\n",
    "plt.show()"
   ]
  },
  {
   "cell_type": "markdown",
   "metadata": {},
   "source": [
    "Method 1b:"
   ]
  },
  {
   "cell_type": "code",
   "execution_count": 44,
   "metadata": {
    "collapsed": false
   },
   "outputs": [
    {
     "name": "stdout",
     "output_type": "stream",
     "text": [
      "gender labels: [(0, 1965), (1, 2637), (-1, 9908)]\n"
     ]
    }
   ],
   "source": [
    "y_gender_2 = np.array([get_gender(t, male_names, female_names) for t in US_tweets])\n",
    "print 'gender labels:', Counter(y_gender_2).items()"
   ]
  },
  {
   "cell_type": "code",
   "execution_count": 45,
   "metadata": {
    "collapsed": false
   },
   "outputs": [
    {
     "data": {
      "text/plain": [
       "(14510, 189687)"
      ]
     },
     "execution_count": 45,
     "metadata": {},
     "output_type": "execute_result"
    }
   ],
   "source": [
    "vec2 = CountVectorizer(tokenizer = stringtokens,min_df=1,\n",
    "             max_df=1., binary=True, ngram_range=(1,2))\n",
    "X_gen2 = vec2.fit_transform(test_profiles)\n",
    "X_gen2.shape"
   ]
  },
  {
   "cell_type": "code",
   "execution_count": 46,
   "metadata": {
    "collapsed": false
   },
   "outputs": [
    {
     "name": "stdout",
     "output_type": "stream",
     "text": [
      "accuracy=0.825\n"
     ]
    }
   ],
   "source": [
    "#Training whole and testing accuracy on whole\n",
    "clf_gender2 = do_cv(X_gen2,y_gender_2,5)"
   ]
  },
  {
   "cell_type": "code",
   "execution_count": 47,
   "metadata": {
    "collapsed": false
   },
   "outputs": [
    {
     "name": "stdout",
     "output_type": "stream",
     "text": [
      "predicted label distribution on raw tweets: Counter({-1: 9915, 1: 2639, 0: 1956})\n"
     ]
    }
   ],
   "source": [
    "predicted_raw2 = clf_gender2.predict(X_gen2)\n",
    "print('predicted label distribution on raw tweets: %s' % Counter(predicted_raw2))"
   ]
  },
  {
   "cell_type": "code",
   "execution_count": 48,
   "metadata": {
    "collapsed": false
   },
   "outputs": [
    {
     "name": "stdout",
     "output_type": "stream",
     "text": [
      "[(-1, 9915), (0, 1956), (1, 2639)]\n"
     ]
    },
    {
     "data": {
      "image/png": "[encoded data removed]",
      "text/plain": [
       "<matplotlib.figure.Figure at 0x1232c3a90>"
      ]
     },
     "metadata": {},
     "output_type": "display_data"
    }
   ],
   "source": [
    "#Plotting gender count with 3 categories\n",
    "g_dict2 = dict(Counter(predicted_raw2))\n",
    "N= range(3)\n",
    "g_list2 = sorted(g_dict2.items(), key=lambda s: s[0])\n",
    "print g_list2\n",
    "GENDER_vals2 = [e[1] for e in g_list2]\n",
    "GENDER_labels2 = ['Unkown','Male','Female'] #(respective values for -1,0,1)\n",
    "plt.figure(figsize=(5,5))\n",
    "plt.xticks(N,GENDER_labels2)\n",
    "plt.bar(N,GENDER_vals2)\n",
    "plt.xlabel('Gender')\n",
    "plt.ylabel('#tweets')\n",
    "plt.show()"
   ]
  },
  {
   "cell_type": "code",
   "execution_count": 70,
   "metadata": {
    "collapsed": false
   },
   "outputs": [
    {
     "name": "stdout",
     "output_type": "stream",
     "text": [
      "[(-1, 9915), (0, 1956), (1, 2639)]\n",
      "[0.6833218470020676, 0.13480358373535492, 0.18187456926257753]\n"
     ]
    },
    {
     "data": {
      "image/png": "[encoded data removed]",
      "text/plain": [
       "<matplotlib.figure.Figure at 0x1232c3750>"
      ]
     },
     "metadata": {},
     "output_type": "display_data"
    }
   ],
   "source": [
    "#Plotting gender ratio\n",
    "g_dict2 = dict(Counter(predicted_raw2))\n",
    "N= range(3)\n",
    "g_list2 = sorted(g_dict2.items(), key=lambda s: s[0])\n",
    "print g_list2\n",
    "GENDER_vals2 = [e[1] for e in g_list2]\n",
    "ratio=[0,0,0]\n",
    "G_sum = sum(GENDER_vals2)\n",
    "for v in range(len(GENDER_vals2)):\n",
    "    GENDER_vals2[v] = 1.*GENDER_vals2[v]/G_sum\n",
    "print GENDER_vals2\n",
    "GENDER_labels2 = ['Unkown','Male','Female'] #(respective values for -1,0,1)\n",
    "plt.figure(figsize=(5,5))\n",
    "plt.xticks(N,GENDER_labels2)\n",
    "plt.bar(N,GENDER_vals2)\n",
    "plt.xlabel('Gender')\n",
    "plt.ylabel('Ratio of tweets')\n",
    "plt.savefig('Exp2_gender_analysis.pdf', bbox_inches='tight')\n",
    "plt.show()"
   ]
  },
  {
   "cell_type": "markdown",
   "metadata": {},
   "source": [
    "#Method 2"
   ]
  },
  {
   "cell_type": "code",
   "execution_count": 50,
   "metadata": {
    "collapsed": false
   },
   "outputs": [
    {
     "data": {
      "text/plain": [
       "200"
      ]
     },
     "execution_count": 50,
     "metadata": {},
     "output_type": "execute_result"
    }
   ],
   "source": [
    "#Read manual labelled data\n",
    "import sys\n",
    "with open('US_label_gender.csv','r') as csvfile:\n",
    "    reader = csv.DictReader(csvfile)\n",
    "    g_labels=[]\n",
    "    for row in reader:\n",
    "        g_labels.append((row['gender']))\n",
    "y_gender3 =np.array(g_labels)\n",
    "len(y_gender3)"
   ]
  },
  {
   "cell_type": "code",
   "execution_count": 51,
   "metadata": {
    "collapsed": true
   },
   "outputs": [],
   "source": [
    "vec3 = CountVectorizer(tokenizer = stringtokens,min_df=1,\n",
    "             max_df=1., binary=True, ngram_range=(1,2))\n",
    "X_gen3 = vec3.fit_transform(train_profiles)"
   ]
  },
  {
   "cell_type": "code",
   "execution_count": 52,
   "metadata": {
    "collapsed": false
   },
   "outputs": [
    {
     "name": "stdout",
     "output_type": "stream",
     "text": [
      "accuracy=0.435\n"
     ]
    }
   ],
   "source": [
    "clf_gender3 = do_cv(X_gen3,y_gender3,5)"
   ]
  },
  {
   "cell_type": "code",
   "execution_count": 53,
   "metadata": {
    "collapsed": false
   },
   "outputs": [
    {
     "data": {
      "text/plain": [
       "(14510, 7066)"
      ]
     },
     "execution_count": 53,
     "metadata": {},
     "output_type": "execute_result"
    }
   ],
   "source": [
    "X_gen3 = vec3.transform(test_profiles)\n",
    "X_gen3.shape"
   ]
  },
  {
   "cell_type": "code",
   "execution_count": 54,
   "metadata": {
    "collapsed": false
   },
   "outputs": [
    {
     "name": "stdout",
     "output_type": "stream",
     "text": [
      "predicted label distribution on raw tweets: Counter({'2': 7511, '1': 4515, '0': 1644, '-1': 840})\n"
     ]
    }
   ],
   "source": [
    "predicted_raw3 = clf_gender3.predict(X_gen3)\n",
    "print('predicted label distribution on raw tweets: %s' % Counter(predicted_raw3))"
   ]
  },
  {
   "cell_type": "code",
   "execution_count": 55,
   "metadata": {
    "collapsed": false
   },
   "outputs": [
    {
     "name": "stdout",
     "output_type": "stream",
     "text": [
      "[('-1', 840), ('0', 1644), ('1', 4515), ('2', 7511)]\n"
     ]
    },
    {
     "data": {
      "image/png": "[encoded data removed]",
      "text/plain": [
       "<matplotlib.figure.Figure at 0x125ec5710>"
      ]
     },
     "metadata": {},
     "output_type": "display_data"
    }
   ],
   "source": [
    "#Plotting gender count with 4 categories\n",
    "g_dict3 = dict(Counter(predicted_raw3))\n",
    "N= range(4)\n",
    "g_list3 = sorted(g_dict3.items(), key=lambda s: s[0])\n",
    "print g_list3\n",
    "GENDER_vals3 = [e[1] for e in g_list3]\n",
    "GENDER_labels3 = ['Unkown','Male','Female','Organization'] #(respective values for -1,0,1)\n",
    "plt.figure(figsize=(5,7))\n",
    "plt.xticks(N,GENDER_labels3)\n",
    "plt.bar(N,GENDER_vals3)\n",
    "plt.xlabel('Gender')\n",
    "plt.ylabel('#tweets')\n",
    "plt.show()"
   ]
  },
  {
   "cell_type": "code",
   "execution_count": 69,
   "metadata": {
    "collapsed": false
   },
   "outputs": [
    {
     "name": "stdout",
     "output_type": "stream",
     "text": [
      "[('-1', 840), ('0', 1644), ('1', 4515), ('2', 7511)]\n",
      "[0.057891109579600274, 0.1133011716057891, 0.3111647139903515, 0.5176430048242592]\n"
     ]
    },
    {
     "data": {
      "image/png": "[encoded data removed]",
      "text/plain": [
       "<matplotlib.figure.Figure at 0x123cf6750>"
      ]
     },
     "metadata": {},
     "output_type": "display_data"
    }
   ],
   "source": [
    "#Plotting gender ratio\n",
    "g_dict3 = dict(Counter(predicted_raw3))\n",
    "N= range(4)\n",
    "g_list3 = sorted(g_dict3.items(), key=lambda s: s[0])\n",
    "print g_list3\n",
    "GENDER_vals3 = [e[1] for e in g_list3]\n",
    "ratio=[0,0,0]\n",
    "G_sum = sum(GENDER_vals3)\n",
    "for v in range(len(GENDER_vals3)):\n",
    "    GENDER_vals3[v] = 1.*GENDER_vals3[v]/G_sum\n",
    "print GENDER_vals3\n",
    "GENDER_labels3 = ['Unkown','Male','Female','Organization'] #(respective values for -1,0,1)\n",
    "plt.figure(figsize=(5,5))\n",
    "plt.xticks(N,GENDER_labels3)\n",
    "plt.bar(N,GENDER_vals3)\n",
    "plt.xlabel('Gender')\n",
    "plt.ylabel('Ratio of tweets')\n",
    "plt.savefig('Exp3_gender_analysis.pdf', bbox_inches='tight')\n",
    "plt.show()"
   ]
  },
  {
   "cell_type": "markdown",
   "metadata": {},
   "source": [
    "# Location Analysis"
   ]
  },
  {
   "cell_type": "code",
   "execution_count": 57,
   "metadata": {
    "collapsed": true
   },
   "outputs": [],
   "source": [
    "with open('ListOfUSCities.txt', 'r') as txtfile:\n",
    "    read = csv.reader(txtfile, delimiter=',')\n",
    "    locs = [t['user']['location'] for t in US_tweets]"
   ]
  },
  {
   "cell_type": "code",
   "execution_count": 62,
   "metadata": {
    "collapsed": true
   },
   "outputs": [],
   "source": [
    "def get_location_tokens(location):\n",
    "    location_tokens = []\n",
    "    if len(location) > 0:\n",
    "        location_tokens.extend(location.split(\",\"))\n",
    "    return location_tokens"
   ]
  },
  {
   "cell_type": "code",
   "execution_count": 63,
   "metadata": {
    "collapsed": true
   },
   "outputs": [],
   "source": [
    "#Below function identifies the States for users by searching in USCities list.\n",
    "#This is an expensive function, expect delays in processing(~25mins)"
   ]
  },
  {
   "cell_type": "code",
   "execution_count": 59,
   "metadata": {
    "collapsed": false
   },
   "outputs": [
    {
     "name": "stdout",
     "output_type": "stream",
     "text": [
      "9685\n"
     ]
    }
   ],
   "source": [
    "with open('ListOfUSCities.txt', 'r') as txtfile:\n",
    "    read = csv.reader(txtfile, delimiter=',')\n",
    "    locations = [(t['user']['location']).lower() for t in US_tweets]\n",
    "    #print locations\n",
    "    #templocs = [t.lower() for t in locs]\n",
    "    states =[]\n",
    "    for t in locations:\n",
    "        i = get_location_tokens(t)\n",
    "        statefound = False\n",
    "        for li in i:            \n",
    "            with open('ListOfUSCities.txt', 'r') as txtfile:\n",
    "                read = csv.reader(txtfile, delimiter=',')\n",
    "                for row in read:\n",
    "                    row = [r.lower() for r in row]\n",
    "                    #print row\n",
    "                    \n",
    "                    if li in row:\n",
    "                        statefound= True\n",
    "                        states.append(row[1])\n",
    "                        break\n",
    "                    else:\n",
    "                        statefound = False\n",
    "            if statefound:\n",
    "                break\n",
    "                    \n",
    "states = [s.upper() for s in states]\n",
    "print len(states)"
   ]
  },
  {
   "cell_type": "code",
   "execution_count": 64,
   "metadata": {
    "collapsed": true
   },
   "outputs": [],
   "source": [
    "y = Counter(states)\n",
    "dict_y = dict(Counter(states))"
   ]
  },
  {
   "cell_type": "code",
   "execution_count": 65,
   "metadata": {
    "collapsed": false
   },
   "outputs": [
    {
     "name": "stdout",
     "output_type": "stream",
     "text": [
      "10 least aware states in the US:\n",
      "[('VT', 2), ('DC', 4), ('PR', 5), ('WY', 6), ('RI', 6), ('DE', 7), ('WV', 7), ('NH', 8), ('SD', 10), ('TN', 11)]\n"
     ]
    }
   ],
   "source": [
    "awareness_by_loc = sorted(dict_y.items(), key=lambda s: s[1])\n",
    "print '10 least aware states in the US:\\n',awareness_by_loc[:10]"
   ]
  },
  {
   "cell_type": "code",
   "execution_count": 66,
   "metadata": {
    "collapsed": true
   },
   "outputs": [],
   "source": [
    "y_list = sorted(dict_y.items(), key=lambda s: s[0])\n",
    "vals= [e[1] for e in y_list]"
   ]
  },
  {
   "cell_type": "code",
   "execution_count": 67,
   "metadata": {
    "collapsed": false
   },
   "outputs": [
    {
     "data": {
      "image/png": "[encoded data removed]",
      "text/plain": [
       "<matplotlib.figure.Figure at 0x109778210>"
      ]
     },
     "metadata": {},
     "output_type": "display_data"
    }
   ],
   "source": [
    "#Plotting awareness count by State\n",
    "N = range(52)\n",
    "state_labels = [k[0] for k in y_list]\n",
    "state_vals= [e[1] for e in y_list]\n",
    "plt.figure(figsize=(20,5))\n",
    "plt.xticks(N,state_labels)\n",
    "plt.plot(N,state_vals,'-bo')\n",
    "plt.xlabel('state')\n",
    "plt.ylabel('#tweets')\n",
    "plt.show()"
   ]
  },
  {
   "cell_type": "code",
   "execution_count": 72,
   "metadata": {
    "collapsed": false
   },
   "outputs": [
    {
     "data": {
      "image/png": "[encoded data removed]",
      "text/plain": [
       "<matplotlib.figure.Figure at 0x125ae1510>"
      ]
     },
     "metadata": {},
     "output_type": "display_data"
    }
   ],
   "source": [
    "#Plotting awareness ratio by State\n",
    "N = range(52)\n",
    "state_labels = [k[0] for k in y_list]\n",
    "state_vals= [e[1] for e in y_list]\n",
    "s_sum = sum(state_vals)\n",
    "for v in range(len(state_vals)):\n",
    "    state_vals[v] = 1.*state_vals[v]/s_sum\n",
    "plt.figure(figsize=(15,5))\n",
    "plt.xticks(N,state_labels)\n",
    "plt.plot(N,state_vals,'-bo')\n",
    "plt.xlabel('state')\n",
    "plt.ylabel('Ratio of tweets')\n",
    "plt.savefig('location_analysis.pdf', bbox_inches='tight')\n",
    "plt.show() "
   ]
  },
  {
   "cell_type": "code",
   "execution_count": null,
   "metadata": {
    "collapsed": true
   },
   "outputs": [],
   "source": []
  }
 ],
 "metadata": {
  "kernelspec": {
   "display_name": "Python 2",
   "language": "python",
   "name": "python2"
  },
  "language_info": {
   "codemirror_mode": {
    "name": "ipython",
    "version": 2
   },
   "file_extension": ".py",
   "mimetype": "text/x-python",
   "name": "python",
   "nbconvert_exporter": "python",
   "pygments_lexer": "ipython2",
   "version": "2.7.10"
  }
 },
 "nbformat": 4,
 "nbformat_minor": 0
}
